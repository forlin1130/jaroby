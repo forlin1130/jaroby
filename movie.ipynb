{
 "cells": [
  {
   "cell_type": "code",
   "execution_count": 3,
   "id": "257f616f",
   "metadata": {},
   "outputs": [
    {
     "name": "stdout",
     "output_type": "stream",
     "text": [
      "https://okjx.cc/?url=https://www.mgtv.com/b/368607/14140629.html?fpa=15811&fpos=1&lastp=ch_vip\n",
      "<webbrowser.WindowsDefault object at 0x000002DEE45FA3D0>\n"
     ]
    }
   ],
   "source": [
    "#-*- coding:UTF-8 -*-\n",
    "url = 'https://okjx.cc/?url='\n",
    "import sys\n",
    "\n",
    "import webbrowser\n",
    "\n",
    "sys.path.append(\"libs\")\n",
    "\n",
    "##修改链接\n",
    "urls = \"https://www.mgtv.com/b/368607/14140629.html?fpa=15811&fpos=1&lastp=ch_vip\"\n",
    "print(url+urls)\n",
    "\n",
    "webbrowser.open(url+urls)\n",
    "\n",
    "print(webbrowser.get())"
   ]
  },
  {
   "cell_type": "code",
   "execution_count": null,
   "id": "757893c7",
   "metadata": {},
   "outputs": [],
   "source": []
  }
 ],
 "metadata": {
  "kernelspec": {
   "display_name": "Python 3",
   "language": "python",
   "name": "python3"
  },
  "language_info": {
   "codemirror_mode": {
    "name": "ipython",
    "version": 3
   },
   "file_extension": ".py",
   "mimetype": "text/x-python",
   "name": "python",
   "nbconvert_exporter": "python",
   "pygments_lexer": "ipython3",
   "version": "3.9.5"
  },
  "toc": {
   "base_numbering": 1,
   "nav_menu": {},
   "number_sections": true,
   "sideBar": true,
   "skip_h1_title": false,
   "title_cell": "Table of Contents",
   "title_sidebar": "Contents",
   "toc_cell": false,
   "toc_position": {},
   "toc_section_display": true,
   "toc_window_display": false
  }
 },
 "nbformat": 4,
 "nbformat_minor": 5
}
