{
 "cells": [
  {
   "cell_type": "code",
   "execution_count": 2,
   "id": "686a5a2e",
   "metadata": {},
   "outputs": [],
   "source": [
    "import numpy as np\n",
    "import pandas as pd\n",
    "import matplotlib.pyplot as plt\n",
    "from IPython.core.interactiveshell import InteractiveShell\n",
    "#import openpyxl\n",
    "InteractiveShell.ast_node_interactivity = \"all\"\n",
    "pd.set_option('max_columns',1000)\n",
    "pd.set_option('max_row',30)\n",
    "pd.set_option('display.float_format', lambda x: '%.5f' % x)\n",
    "%matplotlib inline \n",
    "plt.rcParams['font.sans-serif'] = 'SimHei'\n",
    "plt.rcParams['axes.unicode_minus'] = False\n",
    "%config InlineBackend.figure_format = 'svg'"
   ]
  },
  {
   "cell_type": "code",
   "execution_count": 10,
   "id": "5e8bfe32",
   "metadata": {},
   "outputs": [],
   "source": [
    "# 每年收到cp，收n年，贴现率为r，这笔投资的现值\n",
    "def discount(n,cp,r):   # 把求现值定义为这个函数。\n",
    "    total = 0 # 定义一个变量total来存储现金流现值的和。\n",
    "    for i in range(n):\n",
    "        cf_i = cp / (1 + r) ** (i + 1)  #计算每期的现金流\n",
    "        total = total + cf_i\n",
    "    print(total)"
   ]
  },
  {
   "cell_type": "code",
   "execution_count": 14,
   "id": "dde17a6a",
   "metadata": {},
   "outputs": [
    {
     "name": "stdout",
     "output_type": "stream",
     "text": [
      "9818.147407449285\n"
     ]
    }
   ],
   "source": [
    "discount(20,10000,0.05)"
   ]
  },
  {
   "cell_type": "code",
   "execution_count": 22,
   "id": "6d5972a3",
   "metadata": {},
   "outputs": [],
   "source": [
    "def npv_f(rate, cashflows):\n",
    "    total = 0\n",
    "    for i,cashflow in enumerate(cashflows): # enumerate()输出一个带编号的tuple\n",
    "        total = total + cashflow/(1 + rate)**i\n",
    "    return total"
   ]
  },
  {
   "cell_type": "code",
   "execution_count": 23,
   "id": "b97ad444",
   "metadata": {},
   "outputs": [
    {
     "name": "stdout",
     "output_type": "stream",
     "text": [
      "0.6699344604846695 3.695422811531828\n"
     ]
    }
   ],
   "source": [
    "# 贴现为5%，前期投入120W，5年收入如下，计算现值\n",
    "cashflows_A = [-120, 10, 30, 50, 40, 10]\n",
    "cashflows_B = [-120, 30, 40, 40, 20, 10]\n",
    "net_value_A = npv_f(0.05, cashflows_A)\n",
    "net_value_B = npv_f(0.05, cashflows_B)\n",
    "print(net_value_A,net_value_B)"
   ]
  },
  {
   "cell_type": "code",
   "execution_count": 26,
   "id": "de5e0677",
   "metadata": {},
   "outputs": [
    {
     "data": {
      "text/plain": [
       "0.051938533782958984"
      ]
     },
     "execution_count": 26,
     "metadata": {},
     "output_type": "execute_result"
    },
    {
     "data": {
      "text/plain": [
       "0.0628361701965332"
      ]
     },
     "execution_count": 26,
     "metadata": {},
     "output_type": "execute_result"
    }
   ],
   "source": [
    "# 方法2，迭代法\n",
    "def IRR_f(cashflows, interations=10000):\n",
    "    rate = 1.0\n",
    "    investment = cashflows[0]\n",
    "    for i in range(1,interations+1):\n",
    "        rate = rate * (1 - npv_f(rate, cashflows) / investment)\n",
    "    return rate\n",
    "irr_f(cashflows_A,iterations=10000)\n",
    "irr_f(cashflows_B,iterations=10000)"
   ]
  },
  {
   "cell_type": "code",
   "execution_count": null,
   "id": "e98aaf99",
   "metadata": {},
   "outputs": [],
   "source": []
  },
  {
   "cell_type": "code",
   "execution_count": 25,
   "id": "b999474f",
   "metadata": {},
   "outputs": [
    {
     "data": {
      "text/plain": [
       "0.051938533782958984"
      ]
     },
     "execution_count": 25,
     "metadata": {},
     "output_type": "execute_result"
    },
    {
     "data": {
      "text/plain": [
       "0.0628361701965332"
      ]
     },
     "execution_count": 25,
     "metadata": {},
     "output_type": "execute_result"
    }
   ],
   "source": [
    "# 设计IRR的计算方法\n",
    "# 方法1，二分法\n",
    "def irr_f(cashflows, iterations=10000):\n",
    "    rate_d = 0\n",
    "    rate_u = 1\n",
    "    rate = (rate_d + rate_u) / 2\n",
    "    npv = npv_f(rate, cashflows)\n",
    "    while abs(npv) > 0.0001: # 设置精度\n",
    "        if npv > 0:\n",
    "            rate_d = rate\n",
    "            rate = (rate_u + rate_d) / 2\n",
    "            npv = npv_f(rate, cashflows)\n",
    "        else:\n",
    "            rate_u = rate\n",
    "            rate = (rate_u + rate_d) / 2\n",
    "            npv = npv_f(rate, cashflows)\n",
    "    return rate\n",
    "irr_f(cashflows_A,iterations=10000)\n",
    "irr_f(cashflows_B,iterations=10000)"
   ]
  },
  {
   "cell_type": "code",
   "execution_count": null,
   "id": "0855b6f8",
   "metadata": {},
   "outputs": [],
   "source": []
  }
 ],
 "metadata": {
  "kernelspec": {
   "display_name": "Python 3",
   "language": "python",
   "name": "python3"
  },
  "language_info": {
   "codemirror_mode": {
    "name": "ipython",
    "version": 3
   },
   "file_extension": ".py",
   "mimetype": "text/x-python",
   "name": "python",
   "nbconvert_exporter": "python",
   "pygments_lexer": "ipython3",
   "version": "3.9.5"
  },
  "toc": {
   "base_numbering": 1,
   "nav_menu": {},
   "number_sections": true,
   "sideBar": true,
   "skip_h1_title": false,
   "title_cell": "Table of Contents",
   "title_sidebar": "Contents",
   "toc_cell": false,
   "toc_position": {},
   "toc_section_display": true,
   "toc_window_display": false
  }
 },
 "nbformat": 4,
 "nbformat_minor": 5
}
