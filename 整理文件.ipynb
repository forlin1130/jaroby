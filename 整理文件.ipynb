{
 "cells": [
  {
   "cell_type": "code",
   "execution_count": 1,
   "id": "66ea89f2",
   "metadata": {},
   "outputs": [],
   "source": [
    "import os\n",
    "import shutil\n",
    "# 对文件夹进行操作，需要引入两个库，os和shutil，这两个都是Python自带的标准库"
   ]
  },
  {
   "cell_type": "code",
   "execution_count": 9,
   "id": "3b9f67bf",
   "metadata": {
    "scrolled": true
   },
   "outputs": [
    {
     "name": "stdout",
     "output_type": "stream",
     "text": [
      "整理完成！\n"
     ]
    }
   ],
   "source": [
    "# 按照课程前2个字母讲课程整理到文件夹\n",
    "folder_id = r'F:\\BaiduNetdiskDownload\\id'\n",
    "# 课程文件夹\n",
    "folder_upd = r'F:\\BaiduNetdiskDownload\\upd'\n",
    "# 所有新下载的课程放到upd文件夹\n",
    "id_raw = list(os.walk(folder_id))\n",
    "id_files = id_raw[1:]\n",
    "# 遍历文件夹中文件名并命名\n",
    "auid = dict()\n",
    "for n in id_files:\n",
    "    author = n[0]\n",
    "    aid = n[2][0][0:2]\n",
    "    auid.update({aid:author})\n",
    "# 创建一个首2位字母开头的字典\n",
    "upd_files = os.listdir(folder_upd)\n",
    "for i in upd_files:\n",
    "    if i[0:2] in auid.keys():\n",
    "        orin = os.path.join(folder_upd,i)\n",
    "        dest = os.path.join(auid[i[0:2]],i)\n",
    "        shutil.move(orin,dest)\n",
    "print(\"整理完成！\")"
   ]
  },
  {
   "cell_type": "code",
   "execution_count": 7,
   "id": "8f968d70",
   "metadata": {},
   "outputs": [
    {
     "name": "stdout",
     "output_type": "stream",
     "text": [
      "整理完成！\n"
     ]
    }
   ],
   "source": [
    "# 把文件按照类型分类\n",
    "formats = {\n",
    "\"图片\":[\".jpg\",\".jpeg\",\".bpm\",'.png','.gif'],\n",
    "\"文档\":[\".doc\",\".docx\",\".ppt\",\".pptx\",'.pdf'],\n",
    "\"表格\":[\".xls\",\".xlsx\"],\n",
    "\"音频\":[\".mp3\",\".wav\"],\n",
    "\"视频\":[\".mp4\",\".avi\",\".wmv\",\".wov\"],\n",
    "\"程序与压缩包\":['.exe','.bat',\".rar\",\".zip\"],\n",
    "\"网页\":['.html','.xml','.mhtml','.html']\n",
    "}\n",
    "os.chdir(r'F:\\file\\招联')      #修改当前目录到\n",
    "for f in os.listdir():             #遍历当前目录\n",
    "    ext = os.path.splitext(f)[-1].lower()      #获取文件类型，转化为小写\n",
    "    for d, exts in formats.items():\n",
    "        if not os.path.isdir(d):        #如果不是目录\n",
    "            os.mkdir(d)              #创建目录\n",
    "        if ext in exts:\n",
    "            shutil.move(f,\"{0}/{1}\".format(d,f))\n",
    "print(\"整理完成！\")"
   ]
  },
  {
   "cell_type": "code",
   "execution_count": 8,
   "id": "e9797ade",
   "metadata": {},
   "outputs": [
    {
     "name": "stdout",
     "output_type": "stream",
     "text": [
      "整理完成！\n"
     ]
    }
   ],
   "source": [
    "# 把子文件夹的文件移动到当前文件夹\n",
    "path = r'F:\\BaiduNetdiskDownload\\book'\n",
    "folders = [os.path.join(path, f) for f in os.listdir(path) if not '.' in f]\n",
    "for fdsrc in folders:\n",
    "    srcfiles = [os.path.join(fdsrc, f) for f in os.listdir(fdsrc)]\n",
    "    for srcf in srcfiles:\n",
    "        shutil.move(srcf, os.path.join(path, os.path.split(srcf)[1]))\n",
    "print(\"整理完成！\")"
   ]
  },
  {
   "cell_type": "code",
   "execution_count": 25,
   "id": "62a7c180",
   "metadata": {},
   "outputs": [
    {
     "name": "stdout",
     "output_type": "stream",
     "text": [
      "[]\n"
     ]
    }
   ],
   "source": [
    "print(srcfiles)"
   ]
  },
  {
   "cell_type": "code",
   "execution_count": null,
   "id": "9f72f06d",
   "metadata": {},
   "outputs": [],
   "source": []
  }
 ],
 "metadata": {
  "kernelspec": {
   "display_name": "Python 3",
   "language": "python",
   "name": "python3"
  },
  "language_info": {
   "codemirror_mode": {
    "name": "ipython",
    "version": 3
   },
   "file_extension": ".py",
   "mimetype": "text/x-python",
   "name": "python",
   "nbconvert_exporter": "python",
   "pygments_lexer": "ipython3",
   "version": "3.9.5"
  },
  "toc": {
   "base_numbering": 1,
   "nav_menu": {},
   "number_sections": true,
   "sideBar": true,
   "skip_h1_title": false,
   "title_cell": "Table of Contents",
   "title_sidebar": "Contents",
   "toc_cell": false,
   "toc_position": {},
   "toc_section_display": true,
   "toc_window_display": false
  }
 },
 "nbformat": 4,
 "nbformat_minor": 5
}
